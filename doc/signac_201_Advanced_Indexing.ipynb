{
 "cells": [
  {
   "cell_type": "markdown",
   "metadata": {},
   "source": [
    "# 2.1 Advanced Indexing\n",
    "\n",
    "## Indexing files\n",
    "\n",
    "As was shown earlier, we can create an index of the data space using the `index()` method:"
   ]
  },
  {
   "cell_type": "code",
   "execution_count": 1,
   "metadata": {},
   "outputs": [
    {
     "name": "stdout",
     "output_type": "stream",
     "text": [
      "{'fluid': 'ideal gas', 'root': '/home/johndoe/signac-examples/notebooks/projects/tutorial/workspace', 'V_liq': 0.0, 'signac_id': '0e909ffdba496bbb590fbce31f3a4563', 'V_gas': 294.1176470588235, 'statepoint': {'kT': 1.0, 'b': 0, 'p': 3.4000000000000004, 'a': 0, 'N': 1000}, '_id': '0e909ffdba496bbb590fbce31f3a4563'}\n",
      "{'fluid': 'ideal gas', 'root': '/home/johndoe/signac-examples/notebooks/projects/tutorial/workspace', 'V_liq': 0.0, 'signac_id': '10743bc8b95bffab09503bce9abbe627', 'V_gas': 10000.0, 'statepoint': {'kT': 1.0, 'b': 0, 'p': 0.1, 'a': 0, 'N': 1000}, '_id': '10743bc8b95bffab09503bce9abbe627'}\n",
      "{'fluid': 'water', 'root': '/home/johndoe/signac-examples/notebooks/projects/tutorial/workspace', 'V_liq': 30.659766945026785, 'signac_id': '11d8997f19b8ba53d2360ee9fb1606fa', 'V_gas': 416.5817831941532, 'statepoint': {'kT': 1.0, 'b': 0.03049, 'p': 1.2000000000000002, 'a': 5.536, 'N': 1000}, '_id': '11d8997f19b8ba53d2360ee9fb1606fa'}\n"
     ]
    }
   ],
   "source": [
    "import signac\n",
    "\n",
    "project = signac.get_project(root='projects/tutorial')\n",
    "index = list(project.index())\n",
    "\n",
    "for doc in index[:3]:\n",
    "    print(doc)"
   ]
  },
  {
   "cell_type": "markdown",
   "metadata": {},
   "source": [
    "We will use the `Collection` class to manage the index directly in-memory:"
   ]
  },
  {
   "cell_type": "code",
   "execution_count": 2,
   "metadata": {
    "collapsed": true
   },
   "outputs": [],
   "source": [
    "index = signac.Collection(project.index())"
   ]
  },
  {
   "cell_type": "markdown",
   "metadata": {},
   "source": [
    "This enables us for example, to quickly search for all indexes related to a specific state point:"
   ]
  },
  {
   "cell_type": "code",
   "execution_count": 3,
   "metadata": {},
   "outputs": [
    {
     "name": "stdout",
     "output_type": "stream",
     "text": [
      "{'fluid': 'argon', 'root': '/home/johndoe/signac-examples/notebooks/projects/tutorial/workspace', 'V_liq': 32.804113976682224, 'signac_id': 'f803d91519e23a9eee19fd9e789eeb2e', 'V_gas': 8430.935727416612, 'statepoint': {'kT': 1.0, 'a': 1.355, 'p': 0.1, 'b': 0.03201, 'N': 1000}, '_id': 'f803d91519e23a9eee19fd9e789eeb2e'}\n",
      "{'fluid': 'ideal gas', 'root': '/home/johndoe/signac-examples/notebooks/projects/tutorial/workspace', 'V_liq': 0.0, 'signac_id': '10743bc8b95bffab09503bce9abbe627', 'V_gas': 10000.0, 'statepoint': {'kT': 1.0, 'a': 0, 'p': 0.1, 'b': 0, 'N': 1000}, '_id': '10743bc8b95bffab09503bce9abbe627'}\n",
      "{'fluid': 'water', 'root': '/home/johndoe/signac-examples/notebooks/projects/tutorial/workspace', 'V_liq': 30.659799008990184, 'signac_id': '40405b550e7cc2d127b9758d0e764672', 'V_gas': 4999.915100495509, 'statepoint': {'kT': 1.0, 'a': 5.536, 'p': 0.1, 'b': 0.03049, 'N': 1000}, '_id': '40405b550e7cc2d127b9758d0e764672'}\n"
     ]
    }
   ],
   "source": [
    "for doc in index.find({'statepoint.p': 0.1}):\n",
    "    print(doc)"
   ]
  },
  {
   "cell_type": "markdown",
   "metadata": {},
   "source": [
    "At this point the index contains information about the statepoint and all data stored in the job document.\n",
    "If we want to include the `V.txt` text files we used to store data in, with the index, we need to tell **signac** the filename pattern and optionally the file format."
   ]
  },
  {
   "cell_type": "code",
   "execution_count": 4,
   "metadata": {},
   "outputs": [
    {
     "name": "stdout",
     "output_type": "stream",
     "text": [
      "{'root': '/home/johndoe/signac-examples/notebooks/projects/tutorial/workspace', 'signac_id': '304357838edbf2ec730f4847bb8a0e20', 'filename': '304357838edbf2ec730f4847bb8a0e20/V.txt', '_id': '0f0ea18abc2bf4eef4dfea3cc5f34547', 'file_id': '98f41c5bed6b5579285d113d2c36ffb9', 'md5': '98f41c5bed6b5579285d113d2c36ffb9', 'statepoint': {'kT': 1.0, 'a': 0, 'p': 10.0, 'b': 0, 'N': 1000}, 'format': 'File'}\n",
      "{'fluid': 'argon', 'root': '/home/johndoe/signac-examples/notebooks/projects/tutorial/workspace', 'V_gas': 110.71550646813046, 'signac_id': '1f147aff97cbbda8aa7c4457a9b51159', 'V_liq': 32.801209285961185, 'statepoint': {'kT': 1.0, 'a': 1.355, 'p': 4.5, 'b': 0.03201, 'N': 1000}, '_id': '1f147aff97cbbda8aa7c4457a9b51159'}\n"
     ]
    }
   ],
   "source": [
    "index = signac.Collection(project.index('.*\\.txt'))\n",
    "for doc in index.find(limit=2):\n",
    "    print(doc)"
   ]
  },
  {
   "cell_type": "markdown",
   "metadata": {},
   "source": [
    "The index contains basic information about the files within our data space, such as the path and the *MD5* hash sum.\n",
    "The ``format`` field currently says ``File``, which is the default value.\n",
    "\n",
    "We can specify that all files ending with ``.txt`` are to be defined to be of ``TextFile`` format:"
   ]
  },
  {
   "cell_type": "code",
   "execution_count": 5,
   "metadata": {},
   "outputs": [
    {
     "name": "stdout",
     "output_type": "stream",
     "text": [
      "{'root': '/home/johndoe/signac-examples/notebooks/projects/tutorial/workspace', 'signac_id': '2f029fb9a2e67621efb884dd9906ceb6', 'filename': '2f029fb9a2e67621efb884dd9906ceb6/V.txt', '_id': '93de9c645b47ecb8c252b5a1f4468588', 'file_id': 'dfe07d8958168d574f62858008123ded', 'md5': 'dfe07d8958168d574f62858008123ded', 'statepoint': {'kT': 1.0, 'a': 0, 'p': 5.6, 'b': 0, 'N': 1000}, 'format': 'TextFile'}\n"
     ]
    }
   ],
   "source": [
    "index = signac.Collection(project.index({'.*\\.txt': 'TextFile'}))\n",
    "print(index.find_one({'format': 'TextFile'}))"
   ]
  },
  {
   "cell_type": "markdown",
   "metadata": {},
   "source": [
    "## Generating a Master Index\n",
    "\n",
    "A *master index* is compiled from multiple other indexes, which is useful when operating on data compiled from multiple sources, such as multiple **signac** projects.\n",
    "\n",
    "To make a data space part of *master index*, we need to create a ``signac_access.py`` module.\n",
    "We use the access module to define how the index for the particular space is to be generated.\n",
    "We can create a basic access module using the `Project.create_access_module()` function:"
   ]
  },
  {
   "cell_type": "code",
   "execution_count": 6,
   "metadata": {},
   "outputs": [
    {
     "name": "stdout",
     "output_type": "stream",
     "text": [
      "import signac\r\n",
      "\r\n",
      "def get_indexes(root):\r\n",
      "    yield signac.get_project(root).index()\r\n"
     ]
    }
   ],
   "source": [
    "# Let's make sure to remoe any remnants from previous runs...\n",
    "% rm -f projects/tutorial/signac_access.py\n",
    "\n",
    "# This will generate a minimal access module:\n",
    "project.create_access_module(master=False)\n",
    "\n",
    "% cat projects/tutorial/signac_access.py"
   ]
  },
  {
   "cell_type": "markdown",
   "metadata": {},
   "source": [
    "When compiling a *master index*, **signac** will search for access modules named ``signac_access.py``.\n",
    "Whenever it finds a file with that name, it will import the module and compile all indexes yielded from a function called ``get_indexes()`` into the master index.\n",
    "\n",
    "Let's try that!"
   ]
  },
  {
   "cell_type": "code",
   "execution_count": 7,
   "metadata": {},
   "outputs": [
    {
     "name": "stdout",
     "output_type": "stream",
     "text": [
      "{'root': '/home/johndoe/signac-examples/notebooks/projects/tutorial/workspace', 'signac_id': '7baa598db5b1f5c1405b75e3745bd148', 'V_liq': 0.0, '_id': '7baa598db5b1f5c1405b75e3745bd148', 'fluid': 'ideal gas', 'V_gas': 149.2537313432836, 'statepoint': {'kT': 1.0, 'a': 0, 'p': 6.7, 'b': 0, 'N': 1000}, 'format': None}\n",
      "{'root': '/home/johndoe/signac-examples/notebooks/projects/tutorial/workspace', 'signac_id': '1f147aff97cbbda8aa7c4457a9b51159', 'V_liq': 32.801209285961185, '_id': '1f147aff97cbbda8aa7c4457a9b51159', 'fluid': 'argon', 'V_gas': 110.71550646813046, 'statepoint': {'kT': 1.0, 'a': 1.355, 'p': 4.5, 'b': 0.03201, 'N': 1000}, 'format': None}\n"
     ]
    }
   ],
   "source": [
    "master_index = signac.Collection(signac.index())\n",
    "for doc in master_index.find(limit=2):\n",
    "    print(doc)"
   ]
  },
  {
   "cell_type": "markdown",
   "metadata": {},
   "source": [
    "Please note, that we executed the ``index()`` function without specifying the project directory.\n",
    "The function *crawled* through all sub-directories below the root directory in an attempt to find *acccess modules*.\n",
    "\n",
    "We can use the *access module* to control how exactly the index is generated, for example by adding filename and format definitions.\n",
    "Usually we could edit the file directly, here we will just overwrite the old one:"
   ]
  },
  {
   "cell_type": "code",
   "execution_count": 8,
   "metadata": {},
   "outputs": [],
   "source": [
    "access_module = \\\n",
    "\"\"\"import signac\n",
    "\n",
    "def get_indexes(root):\n",
    "    yield signac.get_project(root).index({'.*\\.txt': 'TextFile'})\n",
    "\"\"\"\n",
    "\n",
    "with open('projects/tutorial/signac_access.py', 'w') as file:\n",
    "    file.write(access_module)"
   ]
  },
  {
   "cell_type": "markdown",
   "metadata": {},
   "source": [
    "Now files will also be part of the master index!"
   ]
  },
  {
   "cell_type": "code",
   "execution_count": 9,
   "metadata": {},
   "outputs": [
    {
     "name": "stdout",
     "output_type": "stream",
     "text": [
      "{'root': '/home/johndoe/signac-examples/notebooks/projects/tutorial/workspace', 'signac_id': '2f029fb9a2e67621efb884dd9906ceb6', 'filename': '2f029fb9a2e67621efb884dd9906ceb6/V.txt', '_id': '93de9c645b47ecb8c252b5a1f4468588', 'file_id': 'dfe07d8958168d574f62858008123ded', 'md5': 'dfe07d8958168d574f62858008123ded', 'statepoint': {'kT': 1.0, 'a': 0, 'p': 5.6, 'b': 0, 'N': 1000}, 'format': 'TextFile'}\n"
     ]
    }
   ],
   "source": [
    "master_index = signac.Collection(signac.index())\n",
    "print(master_index.find_one({'format': 'TextFile'}))"
   ]
  },
  {
   "cell_type": "markdown",
   "metadata": {},
   "source": [
    "We can use the ``signac.fetch()`` function to directly open files associated with a particular index document:"
   ]
  },
  {
   "cell_type": "code",
   "execution_count": 10,
   "metadata": {},
   "outputs": [
    {
     "name": "stdout",
     "output_type": "stream",
     "text": [
      "5.6 [0.0, 178.57142857142858]\n",
      "1.2000000000000002 [0.0, 833.3333333333333]\n",
      "3.4000000000000004 [32.80193336746696, 146.6628568456784]\n"
     ]
    }
   ],
   "source": [
    "for doc in master_index.find({'format': 'TextFile'}, limit=3):\n",
    "    with signac.fetch(doc) as file:\n",
    "        p = doc['statepoint']['p']\n",
    "        V = [float(v) for v in file.read().strip().split(',')]\n",
    "        print(p, V)"
   ]
  },
  {
   "cell_type": "markdown",
   "metadata": {},
   "source": [
    "Think of `fetch()` like the built-in `open()` function. It allows us to retrieve and open files based on the index document (file id) instead of an absolute file path. This makes it easier to operate on data agnostic to its actual physical location."
   ]
  },
  {
   "cell_type": "markdown",
   "metadata": {},
   "source": [
    "Please note that we can specify *access modules* for any kind of data space, it does not have to be a *signac project*!\n",
    "\n",
    "In the [next section](signac_202_Integration_with_pandas.ipynb), we will learn how to use indexes in combination with pandas dataframes."
   ]
  }
 ],
 "metadata": {
  "kernelspec": {
   "display_name": "Python 3",
   "language": "python",
   "name": "python3"
  },
  "language_info": {
   "codemirror_mode": {
    "name": "ipython",
    "version": 3
   },
   "file_extension": ".py",
   "mimetype": "text/x-python",
   "name": "python",
   "nbconvert_exporter": "python",
   "pygments_lexer": "ipython3",
   "version": "3.5.3"
  }
 },
 "nbformat": 4,
 "nbformat_minor": 1
}
